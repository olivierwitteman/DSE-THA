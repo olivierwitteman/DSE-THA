{
  "nbformat": 4,
  "nbformat_minor": 0,
  "metadata": {
    "colab": {
      "name": "Untitled0.ipynb",
      "provenance": [],
      "collapsed_sections": [],
      "include_colab_link": true
    },
    "kernelspec": {
      "name": "python3",
      "display_name": "Python 3"
    },
    "language_info": {
      "name": "python"
    }
  },
  "cells": [
    {
      "cell_type": "markdown",
      "metadata": {
        "id": "view-in-github",
        "colab_type": "text"
      },
      "source": [
        "<a href=\"https://colab.research.google.com/github/olivierwitteman/DSE-THA/blob/master/Monotonic_calculation.ipynb\" target=\"_parent\"><img src=\"https://colab.research.google.com/assets/colab-badge.svg\" alt=\"Open In Colab\"/></a>"
      ]
    },
    {
      "cell_type": "code",
      "metadata": {
        "id": "3l7WVTJkMWW_",
        "colab": {
          "base_uri": "https://localhost:8080/"
        },
        "outputId": "168406c0-c6e3-47b7-eefe-0a0df009e099"
      },
      "source": [
        "signal = [1, 2, 3, 4, 5]\n",
        "\n",
        "index = 0\n",
        "sum = 0\n",
        "for elm1 in signal[:-1]: \n",
        "  elm2 = signal[index + 1]\n",
        "  print(elm1, elm2)\n",
        "  print(abs(elm2 - elm1))\n",
        "  derivative = abs(elm2 - elm1)\n",
        "  sum += derivative\n",
        "  index += 1\n",
        "\n",
        "print(index)\n",
        "print(sum)\n",
        "result = sum / index\n"
      ],
      "execution_count": null,
      "outputs": [
        {
          "output_type": "stream",
          "text": [
            "1 2\n",
            "1\n",
            "2 3\n",
            "1\n",
            "3 4\n",
            "1\n",
            "4 5\n",
            "1\n",
            "4\n",
            "4\n"
          ],
          "name": "stdout"
        }
      ]
    },
    {
      "cell_type": "code",
      "metadata": {
        "colab": {
          "base_uri": "https://localhost:8080/"
        },
        "id": "xjUWHubkOiJ5",
        "outputId": "7afe0fb0-1d85-4611-c42c-948963d0b3e9"
      },
      "source": [
        "jumps = 2\n",
        "signal = [1, 2, 3, 4, 5]\n",
        "\n",
        "\n",
        "index = 0\n",
        "sum = 0\n",
        "for elm1 in signal[:-1 * jumps]: \n",
        "  elm2 = signal[index + jumps]\n",
        "  print(elm1, elm2)\n",
        "  print(abs(elm2 - elm1))\n",
        "  derivative = abs(elm2 - elm1)\n",
        "  sum += derivative\n",
        "  index += 1\n",
        "\n",
        "print(\"N-jumps\", index)\n",
        "print(sum)\n",
        "result = sum / index\n",
        "print(\"Result: \", result)\n",
        "\n"
      ],
      "execution_count": null,
      "outputs": [
        {
          "output_type": "stream",
          "text": [
            "1 3\n",
            "2\n",
            "2 4\n",
            "2\n",
            "3 5\n",
            "2\n",
            "N-jumps 3\n",
            "6\n",
            "Result:  2.0\n"
          ],
          "name": "stdout"
        }
      ]
    },
    {
      "cell_type": "code",
      "metadata": {
        "colab": {
          "base_uri": "https://localhost:8080/",
          "height": 634
        },
        "id": "Yj1WDKdBP4jm",
        "outputId": "fe8df70d-8c8d-487a-895c-9191fe7507c4"
      },
      "source": [
        "jumps = 1\n",
        "signal = [1, 2, 4, 4, 5,7,4,8,9,10]\n",
        "\n",
        "\n",
        "index = 0\n",
        "sum = 0\n",
        "list_derivatives = []\n",
        "for elm1 in signal[:-1 * jumps]: \n",
        "  elm2 = signal[index + jumps]\n",
        "  print(elm1, elm2)\n",
        "  print(abs(elm2 - elm1))\n",
        "  derivative = abs(elm2 - elm1)\n",
        "  list_derivatives.append(derivative)\n",
        "  sum += derivative\n",
        "  index += 1\n",
        "\n",
        "print(list_derivatives)\n",
        "print(\"N-jumps\", index)\n",
        "print(sum)\n",
        "result = sum / index\n",
        "print(\"Result: \", result)\n",
        "\n",
        "import matplotlib.pyplot as plt\n",
        "\n",
        "plt.scatter(range(len(list_derivatives)), list_derivatives)\n",
        "plt.show()"
      ],
      "execution_count": 3,
      "outputs": [
        {
          "output_type": "stream",
          "text": [
            "1 2\n",
            "1\n",
            "2 4\n",
            "2\n",
            "4 4\n",
            "0\n",
            "4 5\n",
            "1\n",
            "5 7\n",
            "2\n",
            "7 4\n",
            "3\n",
            "4 8\n",
            "4\n",
            "8 9\n",
            "1\n",
            "9 10\n",
            "1\n",
            "[1, 2, 0, 1, 2, 3, 4, 1, 1]\n",
            "N-jumps 9\n",
            "15\n",
            "Result:  1.6666666666666667\n"
          ],
          "name": "stdout"
        },
        {
          "output_type": "display_data",
          "data": {
            "image/png": "[encoded data removed]",
            "text/plain": [
              "<Figure size 432x288 with 1 Axes>"
            ]
          },
          "metadata": {
            "tags": [],
            "needs_background": "light"
          }
        }
      ]
    },
    {
      "cell_type": "code",
      "metadata": {
        "colab": {
          "base_uri": "https://localhost:8080/",
          "height": 634
        },
        "id": "NSX5EKCqQmii",
        "outputId": "5451d216-e80a-4313-aa92-bfba2275e2f8"
      },
      "source": [
        "def monotonicity_calc(jumps = 1, signal = [1, 2, 4, 4, 5]): \n",
        "  index = 0\n",
        "  sum = 0\n",
        "  list_derivatives = []\n",
        "  for elm1 in signal[:-1 * jumps]: \n",
        "    elm2 = signal[index + jumps]\n",
        "    print(elm1, elm2)\n",
        "    print(abs(elm2 - elm1))\n",
        "    derivative = abs(elm2 - elm1)\n",
        "    list_derivatives.append(derivative)\n",
        "    sum += derivative\n",
        "    index += 1\n",
        "\n",
        "  print(list_derivatives)\n",
        "  print(\"N-jumps\", index)\n",
        "  print(sum)\n",
        "  result = sum / index\n",
        "  print(\"Result: \", result)\n",
        "  return list_derivatives\n",
        "\n",
        "list_derivatives_1 = monotonicity_calc(jumps = 1, signal = [1, 2, 4, 4, 5])\n",
        "list_derivatives_2 = monotonicity_calc(jumps = 2, signal = [1, 2, 4, 4, 5])\n",
        "\n",
        "import matplotlib.pyplot as plt\n",
        "\n",
        "plt.scatter(range(len(list_derivatives_1)), list_derivatives_1, label='jumps = 1')\n",
        "plt.scatter(range(len(list_derivatives_2)), list_derivatives_2, label='jumps = 2')\n",
        "plt.legend()\n",
        "plt.show()"
      ],
      "execution_count": 4,
      "outputs": [
        {
          "output_type": "stream",
          "text": [
            "1 1.2\n",
            "0.19999999999999996\n",
            "1.2 1.4\n",
            "0.19999999999999996\n",
            "1.4 1.4\n",
            "0.0\n",
            "1.4 1.5\n",
            "0.10000000000000009\n",
            "[0.19999999999999996, 0.19999999999999996, 0.0, 0.10000000000000009]\n",
            "N-jumps 4\n",
            "0.5\n",
            "Result:  0.125\n",
            "1 4\n",
            "3\n",
            "2 4\n",
            "2\n",
            "4 5\n",
            "1\n",
            "[3, 2, 1]\n",
            "N-jumps 3\n",
            "6\n",
            "Result:  2.0\n"
          ],
          "name": "stdout"
        },
        {
          "output_type": "display_data",
          "data": {
            "image/png": "[encoded data removed]",
            "text/plain": [
              "<Figure size 432x288 with 1 Axes>"
            ]
          },
          "metadata": {
            "tags": [],
            "needs_background": "light"
          }
        }
      ]
    },
    {
      "cell_type": "code",
      "metadata": {
        "id": "hJV56lpUkMVr"
      },
      "source": [
        ""
      ],
      "execution_count": null,
      "outputs": []
    }
  ]
}